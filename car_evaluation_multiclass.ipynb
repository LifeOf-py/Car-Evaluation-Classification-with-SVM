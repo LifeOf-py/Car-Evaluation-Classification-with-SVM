{
 "cells": [
  {
   "cell_type": "markdown",
   "id": "d05cc730-67b8-4fe4-9111-b04acc8daca3",
   "metadata": {},
   "source": [
    "## Import Libraries"
   ]
  },
  {
   "cell_type": "code",
   "execution_count": 2,
   "id": "561b362f-cdad-4618-84cd-361ef5b6f21c",
   "metadata": {},
   "outputs": [],
   "source": [
    "import numpy as np\n",
    "import pandas as pd\n",
    "\n",
    "from sklearn.datasets import load_breast_cancer\n",
    "\n",
    "from sklearn.model_selection import StratifiedKFold, cross_val_score, GridSearchCV\n",
    "from sklearn.tree import DecisionTreeClassifier\n",
    "from sklearn.neighbors import KNeighborsClassifier\n",
    "from sklearn.linear_model import LogisticRegression\n",
    "from sklearn.svm import SVC\n",
    "from sklearn.preprocessing import StandardScaler\n",
    "from sklearn.pipeline import Pipeline\n",
    "from sklearn.metrics import auc, roc_curve, confusion_matrix, classification_report, make_scorer, accuracy_score, precision_score, recall_score, f1_score, roc_auc_score, precision_recall_curve\n",
    "from sklearn.model_selection import train_test_split\n",
    "from sklearn.preprocessing import OrdinalEncoder, LabelEncoder\n",
    "from sklearn.naive_bayes import GaussianNB\n",
    "from sklearn.metrics import matthews_corrcoef, cohen_kappa_score\n",
    "from sklearn.metrics import ConfusionMatrixDisplay\n",
    "\n",
    "import seaborn as sns\n",
    "import matplotlib.pyplot as plt"
   ]
  },
  {
   "cell_type": "markdown",
   "id": "e368a676-8e51-4df9-9b45-ef13501b2f63",
   "metadata": {},
   "source": [
    "## Read Data"
   ]
  },
  {
   "cell_type": "code",
   "execution_count": 4,
   "id": "a86912c3-838d-4732-889a-3b05068d1b7c",
   "metadata": {},
   "outputs": [
    {
     "data": {
      "text/html": [
       "<div>\n",
       "<style scoped>\n",
       "    .dataframe tbody tr th:only-of-type {\n",
       "        vertical-align: middle;\n",
       "    }\n",
       "\n",
       "    .dataframe tbody tr th {\n",
       "        vertical-align: top;\n",
       "    }\n",
       "\n",
       "    .dataframe thead th {\n",
       "        text-align: right;\n",
       "    }\n",
       "</style>\n",
       "<table border=\"1\" class=\"dataframe\">\n",
       "  <thead>\n",
       "    <tr style=\"text-align: right;\">\n",
       "      <th></th>\n",
       "      <th>buying</th>\n",
       "      <th>maint</th>\n",
       "      <th>doors</th>\n",
       "      <th>persons</th>\n",
       "      <th>lug_boot</th>\n",
       "      <th>safety</th>\n",
       "      <th>class</th>\n",
       "    </tr>\n",
       "  </thead>\n",
       "  <tbody>\n",
       "    <tr>\n",
       "      <th>0</th>\n",
       "      <td>vhigh</td>\n",
       "      <td>vhigh</td>\n",
       "      <td>2</td>\n",
       "      <td>2</td>\n",
       "      <td>small</td>\n",
       "      <td>low</td>\n",
       "      <td>unacc</td>\n",
       "    </tr>\n",
       "    <tr>\n",
       "      <th>1</th>\n",
       "      <td>vhigh</td>\n",
       "      <td>vhigh</td>\n",
       "      <td>2</td>\n",
       "      <td>2</td>\n",
       "      <td>small</td>\n",
       "      <td>med</td>\n",
       "      <td>unacc</td>\n",
       "    </tr>\n",
       "    <tr>\n",
       "      <th>2</th>\n",
       "      <td>vhigh</td>\n",
       "      <td>vhigh</td>\n",
       "      <td>2</td>\n",
       "      <td>2</td>\n",
       "      <td>small</td>\n",
       "      <td>high</td>\n",
       "      <td>unacc</td>\n",
       "    </tr>\n",
       "    <tr>\n",
       "      <th>3</th>\n",
       "      <td>vhigh</td>\n",
       "      <td>vhigh</td>\n",
       "      <td>2</td>\n",
       "      <td>2</td>\n",
       "      <td>med</td>\n",
       "      <td>low</td>\n",
       "      <td>unacc</td>\n",
       "    </tr>\n",
       "    <tr>\n",
       "      <th>4</th>\n",
       "      <td>vhigh</td>\n",
       "      <td>vhigh</td>\n",
       "      <td>2</td>\n",
       "      <td>2</td>\n",
       "      <td>med</td>\n",
       "      <td>med</td>\n",
       "      <td>unacc</td>\n",
       "    </tr>\n",
       "  </tbody>\n",
       "</table>\n",
       "</div>"
      ],
      "text/plain": [
       "  buying  maint doors persons lug_boot safety  class\n",
       "0  vhigh  vhigh     2       2    small    low  unacc\n",
       "1  vhigh  vhigh     2       2    small    med  unacc\n",
       "2  vhigh  vhigh     2       2    small   high  unacc\n",
       "3  vhigh  vhigh     2       2      med    low  unacc\n",
       "4  vhigh  vhigh     2       2      med    med  unacc"
      ]
     },
     "execution_count": 4,
     "metadata": {},
     "output_type": "execute_result"
    }
   ],
   "source": [
    "column_names = [\"buying\", \"maint\", \"doors\", \"persons\", \"lug_boot\", \"safety\", \"class\"]\n",
    "\n",
    "url = \"https://archive.ics.uci.edu/ml/machine-learning-databases/car/car.data\"\n",
    "df = pd.read_csv(url, names=column_names)\n",
    "\n",
    "df.head()"
   ]
  },
  {
   "cell_type": "code",
   "execution_count": 5,
   "id": "be6f75c4-41a1-411c-bf65-0b4e8c10c237",
   "metadata": {},
   "outputs": [
    {
     "data": {
      "text/plain": [
       "class\n",
       "unacc    1210\n",
       "acc       384\n",
       "good       69\n",
       "vgood      65\n",
       "Name: count, dtype: int64"
      ]
     },
     "execution_count": 5,
     "metadata": {},
     "output_type": "execute_result"
    }
   ],
   "source": [
    "df['class'].value_counts()"
   ]
  },
  {
   "cell_type": "markdown",
   "id": "e7f681ea-a28a-4ea3-8987-cecd1f0a0570",
   "metadata": {},
   "source": [
    "## Data Preprocessing \n",
    "\n",
    "### Label Encoding of categorical features as they are ordinal"
   ]
  },
  {
   "cell_type": "code",
   "execution_count": 7,
   "id": "21fa5fee-c8a9-40cb-9d51-af35fd89e675",
   "metadata": {},
   "outputs": [
    {
     "name": "stdout",
     "output_type": "stream",
     "text": [
      "['vhigh' 'high' 'med' 'low']\n",
      "['vhigh' 'high' 'med' 'low']\n",
      "['2' '3' '4' '5more']\n",
      "['2' '4' 'more']\n",
      "['small' 'med' 'big']\n",
      "['low' 'med' 'high']\n",
      "['unacc' 'acc' 'vgood' 'good']\n"
     ]
    }
   ],
   "source": [
    "print(df['buying'].unique())\n",
    "print(df['maint'].unique())\n",
    "print(df['doors'].unique())\n",
    "print(df['persons'].unique())\n",
    "print(df['lug_boot'].unique())\n",
    "print(df['safety'].unique())\n",
    "print(df['class'].unique())"
   ]
  },
  {
   "cell_type": "code",
   "execution_count": 8,
   "id": "dada14b7-ab7e-4573-8695-244df745eb4e",
   "metadata": {},
   "outputs": [
    {
     "name": "stdout",
     "output_type": "stream",
     "text": [
      "Encoding for buying:\n",
      "  low -> 0\n",
      "  med -> 1\n",
      "  high -> 2\n",
      "  vhigh -> 3\n",
      "------------------------------\n",
      "Encoding for maint:\n",
      "  low -> 0\n",
      "  med -> 1\n",
      "  high -> 2\n",
      "  vhigh -> 3\n",
      "------------------------------\n",
      "Encoding for lug_boot:\n",
      "  small -> 0\n",
      "  med -> 1\n",
      "  big -> 2\n",
      "------------------------------\n",
      "Encoding for safety:\n",
      "  low -> 0\n",
      "  med -> 1\n",
      "  high -> 2\n",
      "------------------------------\n",
      "Encoding for doors:\n",
      "  2 -> 0\n",
      "  3 -> 1\n",
      "  4 -> 2\n",
      "  5more -> 3\n",
      "------------------------------\n",
      "Encoding for persons:\n",
      "  2 -> 0\n",
      "  4 -> 1\n",
      "  more -> 2\n",
      "------------------------------\n",
      "Encoding for class:\n",
      "  acc -> 0\n",
      "  good -> 1\n",
      "  unacc -> 2\n",
      "  vgood -> 3\n",
      "------------------------------\n",
      "\n",
      "Encoded DataFrame:\n",
      "   buying  maint  doors  persons  lug_boot  safety  class\n",
      "0       3      3      0        0         0       0      2\n",
      "1       3      3      0        0         0       1      2\n",
      "2       3      3      0        0         0       2      2\n",
      "3       3      3      0        0         1       0      2\n",
      "4       3      3      0        0         1       1      2\n"
     ]
    }
   ],
   "source": [
    "ordinal_mapping = {\n",
    "    \"buying\": [\"low\", \"med\", \"high\", \"vhigh\"],\n",
    "    \"maint\": [\"low\", \"med\", \"high\", \"vhigh\"],\n",
    "    \"lug_boot\": [\"small\", \"med\", \"big\"],\n",
    "    \"safety\": [\"low\", \"med\", \"high\"],\n",
    "    \"doors\": [\"2\", \"3\", \"4\", \"5more\"],\n",
    "    \"persons\": [\"2\", \"4\", \"more\"]\n",
    "}\n",
    "\n",
    "encoder = OrdinalEncoder(categories=[ordinal_mapping[col] for col in ordinal_mapping])\n",
    "df_encoded = df.copy()\n",
    "df_encoded[list(ordinal_mapping.keys())] = encoder.fit_transform(df[list(ordinal_mapping.keys())])\n",
    "\n",
    "df_encoded[list(ordinal_mapping.keys())] = df_encoded[list(ordinal_mapping.keys())].astype(int)\n",
    "\n",
    "label_encoder = LabelEncoder()\n",
    "df_encoded[\"class\"] = label_encoder.fit_transform(df[\"class\"])\n",
    "\n",
    "encoded_mappings = {}\n",
    "\n",
    "for col in ordinal_mapping:\n",
    "    encoded_mappings[col] = {category: idx for idx, category in enumerate(ordinal_mapping[col])}\n",
    "\n",
    "encoded_mappings[\"class\"] = {category: idx for idx, category in enumerate(label_encoder.classes_)}\n",
    "\n",
    "for col, mapping in encoded_mappings.items():\n",
    "    print(f\"Encoding for {col}:\")\n",
    "    for category, code in mapping.items():\n",
    "        print(f\"  {category} -> {code}\")\n",
    "    print(\"-\" * 30)\n",
    "\n",
    "print(\"\\nEncoded DataFrame:\")\n",
    "print(df_encoded.head())"
   ]
  },
  {
   "cell_type": "markdown",
   "id": "10c91baf-2b59-41ce-98c5-83796be54124",
   "metadata": {},
   "source": [
    "# Train and Test Split"
   ]
  },
  {
   "cell_type": "code",
   "execution_count": 10,
   "id": "4de60d47-544d-4e38-9108-b544dc04b425",
   "metadata": {},
   "outputs": [],
   "source": [
    "# Split data into train and test sets (80% train, 20% test)\n",
    "X_train, X_test, y_train, y_test = train_test_split(df_encoded.drop('class', axis=1), df_encoded['class'], test_size=0.2, stratify=df_encoded['class'], random_state=11)"
   ]
  },
  {
   "cell_type": "markdown",
   "id": "96d42697-af17-4b6c-ae42-b31e52e4f004",
   "metadata": {},
   "source": [
    "## Nested Cross-Validation Setup"
   ]
  },
  {
   "cell_type": "code",
   "execution_count": 12,
   "id": "0908d2d4-02fd-4a0d-9c67-f9a5ccbcceae",
   "metadata": {},
   "outputs": [],
   "source": [
    "outer_cv = StratifiedKFold(n_splits=5, shuffle=True, random_state=11)\n",
    "inner_cv = StratifiedKFold(n_splits=5, shuffle=True, random_state=11)\n",
    "\n",
    "param_grids = {\n",
    "    \"Decision_Tree\": {\"clf__max_depth\": [3, 5, 10, None], \"clf__min_samples_split\": [2, 5, 10]},\n",
    "    \"KNN\": {\"clf__n_neighbors\": [3, 5, 7, 9], \"clf__weights\": ['uniform', 'distance']},\n",
    "    \"Logistic_Regression\": {\"clf__C\": [0.01, 0.1, 1, 10, 100], \"clf__penalty\": ['l1', 'l2'], \"clf__solver\": ['liblinear']},\n",
    "    \"SVM\": {\"clf__C\": [0.1, 1, 10], \"clf__kernel\": ['linear', 'rbf', 'poly']}\n",
    "}\n",
    "\n",
    "models = {\n",
    "    \"Decision_Tree\": DecisionTreeClassifier(random_state=42),\n",
    "    \"KNN\": KNeighborsClassifier(),\n",
    "    \"Logistic_Regression\": LogisticRegression(random_state=42),\n",
    "    \"Naive_Bayes\": GaussianNB(), \n",
    "    \"SVM\": SVC(probability=True, random_state=42)\n",
    "}"
   ]
  },
  {
   "cell_type": "markdown",
   "id": "c9b679ed-38c4-4d13-bd9d-ecdd576f2447",
   "metadata": {},
   "source": [
    "## Run Nested Cross-Validation for Each Model"
   ]
  },
  {
   "cell_type": "code",
   "execution_count": 14,
   "id": "ec0765dd-8591-4cb9-825b-29ffe6d2f248",
   "metadata": {},
   "outputs": [
    {
     "name": "stdout",
     "output_type": "stream",
     "text": [
      "Training Decision_Tree...\n",
      "Training KNN...\n",
      "Training Logistic_Regression...\n",
      "Training Naive_Bayes...\n",
      "Training SVM...\n"
     ]
    },
    {
     "data": {
      "text/html": [
       "<div>\n",
       "<style scoped>\n",
       "    .dataframe tbody tr th:only-of-type {\n",
       "        vertical-align: middle;\n",
       "    }\n",
       "\n",
       "    .dataframe tbody tr th {\n",
       "        vertical-align: top;\n",
       "    }\n",
       "\n",
       "    .dataframe thead th {\n",
       "        text-align: right;\n",
       "    }\n",
       "</style>\n",
       "<table border=\"1\" class=\"dataframe\">\n",
       "  <thead>\n",
       "    <tr style=\"text-align: right;\">\n",
       "      <th></th>\n",
       "      <th>accuracy</th>\n",
       "      <th>precision</th>\n",
       "      <th>recall</th>\n",
       "      <th>f1_score</th>\n",
       "      <th>mcc</th>\n",
       "      <th>kappa</th>\n",
       "    </tr>\n",
       "  </thead>\n",
       "  <tbody>\n",
       "    <tr>\n",
       "      <th>Decision_Tree</th>\n",
       "      <td>0.971765</td>\n",
       "      <td>0.973085</td>\n",
       "      <td>0.971765</td>\n",
       "      <td>0.971906</td>\n",
       "      <td>0.938977</td>\n",
       "      <td>0.938649</td>\n",
       "    </tr>\n",
       "    <tr>\n",
       "      <th>KNN</th>\n",
       "      <td>0.952245</td>\n",
       "      <td>0.953932</td>\n",
       "      <td>0.952245</td>\n",
       "      <td>0.951191</td>\n",
       "      <td>0.895843</td>\n",
       "      <td>0.895052</td>\n",
       "    </tr>\n",
       "    <tr>\n",
       "      <th>Logistic_Regression</th>\n",
       "      <td>0.808259</td>\n",
       "      <td>0.784231</td>\n",
       "      <td>0.808259</td>\n",
       "      <td>0.790172</td>\n",
       "      <td>0.546304</td>\n",
       "      <td>0.536355</td>\n",
       "    </tr>\n",
       "    <tr>\n",
       "      <th>Naive_Bayes</th>\n",
       "      <td>0.704018</td>\n",
       "      <td>0.780714</td>\n",
       "      <td>0.704018</td>\n",
       "      <td>0.706321</td>\n",
       "      <td>0.411884</td>\n",
       "      <td>0.390506</td>\n",
       "    </tr>\n",
       "    <tr>\n",
       "      <th>SVM</th>\n",
       "      <td>0.984079</td>\n",
       "      <td>0.984500</td>\n",
       "      <td>0.984079</td>\n",
       "      <td>0.984005</td>\n",
       "      <td>0.965553</td>\n",
       "      <td>0.965289</td>\n",
       "    </tr>\n",
       "  </tbody>\n",
       "</table>\n",
       "</div>"
      ],
      "text/plain": [
       "                     accuracy  precision    recall  f1_score       mcc  \\\n",
       "Decision_Tree        0.971765   0.973085  0.971765  0.971906  0.938977   \n",
       "KNN                  0.952245   0.953932  0.952245  0.951191  0.895843   \n",
       "Logistic_Regression  0.808259   0.784231  0.808259  0.790172  0.546304   \n",
       "Naive_Bayes          0.704018   0.780714  0.704018  0.706321  0.411884   \n",
       "SVM                  0.984079   0.984500  0.984079  0.984005  0.965553   \n",
       "\n",
       "                        kappa  \n",
       "Decision_Tree        0.938649  \n",
       "KNN                  0.895052  \n",
       "Logistic_Regression  0.536355  \n",
       "Naive_Bayes          0.390506  \n",
       "SVM                  0.965289  "
      ]
     },
     "execution_count": 14,
     "metadata": {},
     "output_type": "execute_result"
    }
   ],
   "source": [
    "results = {}\n",
    "\n",
    "for model_name, model in models.items():\n",
    "    print(f\"Training {model_name}...\")\n",
    "    \n",
    "    scores = {\n",
    "        \"accuracy\": [],\n",
    "        \"precision\": [],\n",
    "        \"recall\": [],\n",
    "        \"f1_score\": [],\n",
    "        \"mcc\": [],  \n",
    "        \"kappa\": []  \n",
    "    }\n",
    "    \n",
    "    for train_idx, test_idx in outer_cv.split(X_train, y_train):\n",
    "        X_train_cv, X_test_cv = X_train.iloc[train_idx], X_train.iloc[test_idx]\n",
    "        y_train_cv, y_test_cv = y_train.iloc[train_idx], y_train.iloc[test_idx]\n",
    "\n",
    "        scaler = StandardScaler()\n",
    "        X_train_scaled = scaler.fit_transform(X_train_cv)\n",
    "        X_test_scaled = scaler.transform(X_test_cv)\n",
    "\n",
    "        pipeline = Pipeline([(\"clf\", model)])\n",
    "\n",
    "        if model_name in param_grids:\n",
    "            grid_search = GridSearchCV(pipeline, param_grids[model_name], cv=inner_cv, scoring=\"accuracy\", n_jobs=-1, refit=True)\n",
    "            grid_search.fit(X_train_scaled, y_train_cv)\n",
    "            best_model = grid_search.best_estimator_\n",
    "        else:\n",
    "            best_model = model\n",
    "            best_model.fit(X_train_scaled, y_train_cv)\n",
    "\n",
    "        y_pred = best_model.predict(X_test_scaled)\n",
    "\n",
    "        scores[\"accuracy\"].append(accuracy_score(y_test_cv, y_pred))\n",
    "        scores[\"precision\"].append(precision_score(y_test_cv, y_pred, average=\"weighted\"))\n",
    "        scores[\"recall\"].append(recall_score(y_test_cv, y_pred, average=\"weighted\"))\n",
    "        scores[\"f1_score\"].append(f1_score(y_test_cv, y_pred, average=\"weighted\"))\n",
    "        scores[\"mcc\"].append(matthews_corrcoef(y_test_cv, y_pred))  \n",
    "        scores[\"kappa\"].append(cohen_kappa_score(y_test_cv, y_pred)) \n",
    "\n",
    "    results[model_name] = {metric: np.mean(scores[metric]) for metric in scores}\n",
    "\n",
    "results_df = pd.DataFrame.from_dict(results, orient=\"index\")\n",
    "results_df"
   ]
  },
  {
   "cell_type": "markdown",
   "id": "eb54230d-8de8-4974-a80d-0c2a90d46f0d",
   "metadata": {},
   "source": [
    "## Final SVM Model Run \n",
    "Hyperparameter Tuning, Training and Performance Metrics"
   ]
  },
  {
   "cell_type": "code",
   "execution_count": 16,
   "id": "92bf4435-03bf-4a60-9c33-13e6049ab867",
   "metadata": {},
   "outputs": [
    {
     "name": "stdout",
     "output_type": "stream",
     "text": [
      "\n",
      "Best Hyperparameters for SVM:\n",
      "   clf__C clf__kernel\n",
      "0      50         rbf\n",
      "\n",
      "Final Model Performance Metrics:\n",
      "   Accuracy  Precision    Recall  F1-Score      MCC     Kappa\n",
      "0  0.988439   0.988468  0.988439  0.988332  0.97469  0.974512\n"
     ]
    }
   ],
   "source": [
    "scoring_metric = make_scorer(matthews_corrcoef)\n",
    "\n",
    "param_grid = {\n",
    "    'clf__C': [0.01, 0.1, 1, 10, 20, 50, 70, 100],  \n",
    "    'clf__kernel': ['linear', 'rbf', 'poly']  \n",
    "}\n",
    "\n",
    "outer_cv = StratifiedKFold(n_splits=5, shuffle=True, random_state=20)\n",
    "inner_cv = StratifiedKFold(n_splits=5, shuffle=True, random_state=20)\n",
    "\n",
    "best_params_list = []\n",
    "nested_scores = []\n",
    "\n",
    "for train_idx, test_idx in outer_cv.split(X_train, y_train):\n",
    "    X_train_cv, X_test_cv = X_train.iloc[train_idx], X_train.iloc[test_idx]\n",
    "    y_train_cv, y_test_cv = y_train.iloc[train_idx], y_train.iloc[test_idx]\n",
    "\n",
    "    scaler = StandardScaler()\n",
    "    X_train_scaled = scaler.fit_transform(X_train_cv)\n",
    "    X_test_scaled = scaler.transform(X_test_cv)\n",
    "\n",
    "    pipeline = Pipeline([\n",
    "        (\"clf\", SVC(probability=True, random_state=20))\n",
    "    ])\n",
    "\n",
    "    grid_search = GridSearchCV(pipeline, param_grid, cv=inner_cv, scoring=scoring_metric, n_jobs=-1, refit=True)\n",
    "    grid_search.fit(X_train_scaled, y_train_cv)\n",
    "\n",
    "    best_model = grid_search.best_estimator_\n",
    "    best_params_list.append(grid_search.best_params_)\n",
    "\n",
    "    y_pred = best_model.predict(X_test_scaled)\n",
    "\n",
    "    accuracy = accuracy_score(y_test_cv, y_pred)  # Use accuracy instead of recall\n",
    "    nested_scores.append(accuracy)\n",
    "\n",
    "best_params_final = pd.DataFrame(best_params_list).mode().iloc[0].to_dict()\n",
    "\n",
    "final_model = SVC(C=best_params_final[\"clf__C\"], \n",
    "                  kernel=best_params_final[\"clf__kernel\"], \n",
    "                  probability=True, \n",
    "                  decision_function_shape='ovr',  \n",
    "                  random_state=20)\n",
    "\n",
    "scaler = StandardScaler()\n",
    "X_train_scaled = scaler.fit_transform(X_train)\n",
    "X_test_scaled = scaler.transform(X_test)\n",
    "\n",
    "final_model.fit(X_train_scaled, y_train)\n",
    "\n",
    "y_pred_final = final_model.predict(X_test_scaled)\n",
    "y_pred_proba = final_model.predict_proba(X_test_scaled)[:, 1]\n",
    "\n",
    "final_metrics = {\n",
    "    \"Accuracy\": accuracy_score(y_test, y_pred_final),\n",
    "    \"Precision\": precision_score(y_test, y_pred_final, average=\"weighted\"),\n",
    "    \"Recall\": recall_score(y_test, y_pred_final, average=\"weighted\"),\n",
    "    \"F1-Score\": f1_score(y_test, y_pred_final, average=\"weighted\"),\n",
    "    \"MCC\": matthews_corrcoef(y_test, y_pred_final),\n",
    "    \"Kappa\": cohen_kappa_score(y_test, y_pred_final)\n",
    "}\n",
    "\n",
    "final_metrics_df = pd.DataFrame([final_metrics])\n",
    "best_params_df = pd.DataFrame([best_params_final])\n",
    "\n",
    "print(\"\\nBest Hyperparameters for SVM:\")\n",
    "print(best_params_df)\n",
    "\n",
    "print(\"\\nFinal Model Performance Metrics:\")\n",
    "print(final_metrics_df)"
   ]
  },
  {
   "cell_type": "markdown",
   "id": "29cc4ebc-de8b-4a7c-92e0-0e4a8ef823ae",
   "metadata": {},
   "source": [
    "# Confusion Matrix"
   ]
  },
  {
   "cell_type": "code",
   "execution_count": 18,
   "id": "3a515dc4-208d-45a8-8572-776c837e5a74",
   "metadata": {},
   "outputs": [
    {
     "data": {
      "text/plain": [
       "<Figure size 600x500 with 0 Axes>"
      ]
     },
     "metadata": {},
     "output_type": "display_data"
    },
    {
     "data": {
      "image/png": "[encoded data removed]",
      "text/plain": [
       "<Figure size 640x480 with 2 Axes>"
      ]
     },
     "metadata": {},
     "output_type": "display_data"
    }
   ],
   "source": [
    "conf_matrix = confusion_matrix(y_test, y_pred_final)\n",
    "\n",
    "class_labels = label_encoder.classes_  # Ensure this matches your encoded labels\n",
    "\n",
    "plt.figure(figsize=(6, 5))\n",
    "disp = ConfusionMatrixDisplay(confusion_matrix=conf_matrix, display_labels=class_labels)\n",
    "disp.plot(cmap='Blues', values_format='d')\n",
    "plt.title(\"Confusion Matrix - SVM (Final Model)\")\n",
    "plt.show()"
   ]
  },
  {
   "cell_type": "markdown",
   "id": "4757919d-9a8f-4a7f-84f4-267663932467",
   "metadata": {},
   "source": [
    "# Per-Class Performance"
   ]
  },
  {
   "cell_type": "code",
   "execution_count": 20,
   "id": "28de7327-990b-47b1-bc4d-bcb629444763",
   "metadata": {},
   "outputs": [
    {
     "name": "stdout",
     "output_type": "stream",
     "text": [
      "\n",
      "Final Model Performance Metrics Per Class:\n",
      "              precision    recall  f1-score     support\n",
      "acc            0.986667  0.961039  0.973684   77.000000\n",
      "good           1.000000  1.000000  1.000000   14.000000\n",
      "unacc          0.987755  1.000000  0.993840  242.000000\n",
      "vgood          1.000000  0.923077  0.960000   13.000000\n",
      "accuracy       0.988439  0.988439  0.988439    0.988439\n",
      "macro avg      0.993605  0.971029  0.981881  346.000000\n",
      "weighted avg   0.988468  0.988439  0.988332  346.000000\n"
     ]
    },
    {
     "data": {
      "image/png": "[encoded data removed]",
      "text/plain": [
       "<Figure size 800x600 with 2 Axes>"
      ]
     },
     "metadata": {},
     "output_type": "display_data"
    }
   ],
   "source": [
    "class_report = classification_report(y_test, y_pred_final, target_names=label_encoder.classes_, output_dict=True)\n",
    "\n",
    "final_metrics_per_class = pd.DataFrame(class_report).T\n",
    "\n",
    "print(\"\\nFinal Model Performance Metrics Per Class:\")\n",
    "print(final_metrics_per_class)\n",
    "\n",
    "plt.figure(figsize=(8, 6))\n",
    "sns.heatmap(final_metrics_per_class.iloc[:-3, :-1], annot=True, cmap=\"Blues\", fmt=\".4f\")\n",
    "plt.title(\"Performance Metrics Per Class\")\n",
    "plt.show()"
   ]
  },
  {
   "cell_type": "code",
   "execution_count": null,
   "id": "14afcff6-ec65-45d4-a5e3-4d3ca7e38593",
   "metadata": {},
   "outputs": [],
   "source": []
  }
 ],
 "metadata": {
  "kernelspec": {
   "display_name": "Python [conda env:base] *",
   "language": "python",
   "name": "conda-base-py"
  },
  "language_info": {
   "codemirror_mode": {
    "name": "ipython",
    "version": 3
   },
   "file_extension": ".py",
   "mimetype": "text/x-python",
   "name": "python",
   "nbconvert_exporter": "python",
   "pygments_lexer": "ipython3",
   "version": "3.12.4"
  }
 },
 "nbformat": 4,
 "nbformat_minor": 5
}
